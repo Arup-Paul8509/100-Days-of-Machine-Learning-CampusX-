{
 "cells": [
  {
   "cell_type": "markdown",
   "metadata": {},
   "source": [
    "# Working with SQL\n",
    "\n",
    "-> SQL stands for **Structured Query Language.**\n",
    "\n",
    "-> SQL is a standard language for storing, manipulating and retrieving data in databases.\n",
    "\n",
    "-> Our SQL tutorial will teach you how to use SQL in: MySQL, SQL Server, MS Access, Oracle, Sybase, Informix, Postgres, and other database systems."
   ]
  },
  {
   "cell_type": "markdown",
   "metadata": {},
   "source": [
    "### 1. Importing Pandas"
   ]
  },
  {
   "cell_type": "code",
   "execution_count": 1,
   "metadata": {},
   "outputs": [],
   "source": [
    "import pandas as pd"
   ]
  },
  {
   "cell_type": "markdown",
   "metadata": {},
   "source": [
    "### 2. Installing mysql.connector"
   ]
  },
  {
   "cell_type": "code",
   "execution_count": 2,
   "metadata": {},
   "outputs": [
    {
     "name": "stdout",
     "output_type": "stream",
     "text": [
      "Defaulting to user installation because normal site-packages is not writeableNote: you may need to restart the kernel to use updated packages.\n"
     ]
    },
    {
     "name": "stderr",
     "output_type": "stream",
     "text": [
      "\n",
      "[notice] A new release of pip is available: 24.1.2 -> 24.2\n",
      "[notice] To update, run: python.exe -m pip install --upgrade pip\n"
     ]
    },
    {
     "name": "stdout",
     "output_type": "stream",
     "text": [
      "\n",
      "Collecting mysql.connector\n",
      "  Downloading mysql-connector-2.2.9.tar.gz (11.9 MB)\n",
      "     ---------------------------------------- 0.0/11.9 MB ? eta -:--:--\n",
      "     ---------------------------------------- 0.0/11.9 MB ? eta -:--:--\n",
      "      --------------------------------------- 0.2/11.9 MB 2.1 MB/s eta 0:00:06\n",
      "      --------------------------------------- 0.3/11.9 MB 1.9 MB/s eta 0:00:07\n",
      "     - -------------------------------------- 0.3/11.9 MB 1.9 MB/s eta 0:00:07\n",
      "     - -------------------------------------- 0.4/11.9 MB 2.0 MB/s eta 0:00:06\n",
      "     - -------------------------------------- 0.5/11.9 MB 1.9 MB/s eta 0:00:06\n",
      "     -- ------------------------------------- 0.6/11.9 MB 2.0 MB/s eta 0:00:06\n",
      "     -- ------------------------------------- 0.7/11.9 MB 2.1 MB/s eta 0:00:06\n",
      "     -- ------------------------------------- 0.8/11.9 MB 2.0 MB/s eta 0:00:06\n",
      "     --- ------------------------------------ 1.0/11.9 MB 2.1 MB/s eta 0:00:06\n",
      "     --- ------------------------------------ 1.1/11.9 MB 2.1 MB/s eta 0:00:06\n",
      "     --- ------------------------------------ 1.1/11.9 MB 2.1 MB/s eta 0:00:06\n",
      "     ---- ----------------------------------- 1.2/11.9 MB 2.2 MB/s eta 0:00:05\n",
      "     ---- ----------------------------------- 1.4/11.9 MB 2.2 MB/s eta 0:00:05\n",
      "     ----- ---------------------------------- 1.5/11.9 MB 2.2 MB/s eta 0:00:05\n",
      "     ----- ---------------------------------- 1.6/11.9 MB 2.3 MB/s eta 0:00:05\n",
      "     ------ --------------------------------- 1.8/11.9 MB 2.3 MB/s eta 0:00:05\n",
      "     ------ --------------------------------- 1.9/11.9 MB 2.3 MB/s eta 0:00:05\n",
      "     ------ --------------------------------- 2.0/11.9 MB 2.3 MB/s eta 0:00:05\n",
      "     ------- -------------------------------- 2.2/11.9 MB 2.4 MB/s eta 0:00:05\n",
      "     ------- -------------------------------- 2.3/11.9 MB 2.4 MB/s eta 0:00:04\n",
      "     -------- ------------------------------- 2.5/11.9 MB 2.5 MB/s eta 0:00:04\n",
      "     -------- ------------------------------- 2.7/11.9 MB 2.5 MB/s eta 0:00:04\n",
      "     --------- ------------------------------ 2.8/11.9 MB 2.5 MB/s eta 0:00:04\n",
      "     --------- ------------------------------ 2.9/11.9 MB 2.6 MB/s eta 0:00:04\n",
      "     ---------- ----------------------------- 3.1/11.9 MB 2.6 MB/s eta 0:00:04\n",
      "     ----------- ---------------------------- 3.3/11.9 MB 2.7 MB/s eta 0:00:04\n",
      "     ----------- ---------------------------- 3.5/11.9 MB 2.7 MB/s eta 0:00:04\n",
      "     ------------ --------------------------- 3.6/11.9 MB 2.7 MB/s eta 0:00:03\n",
      "     ------------ --------------------------- 3.8/11.9 MB 2.7 MB/s eta 0:00:03\n",
      "     ------------- -------------------------- 4.0/11.9 MB 2.8 MB/s eta 0:00:03\n",
      "     -------------- ------------------------- 4.2/11.9 MB 2.8 MB/s eta 0:00:03\n",
      "     -------------- ------------------------- 4.4/11.9 MB 2.9 MB/s eta 0:00:03\n",
      "     --------------- ------------------------ 4.5/11.9 MB 2.9 MB/s eta 0:00:03\n",
      "     ---------------- ----------------------- 4.8/11.9 MB 2.9 MB/s eta 0:00:03\n",
      "     ---------------- ----------------------- 5.0/11.9 MB 3.0 MB/s eta 0:00:03\n",
      "     ----------------- ---------------------- 5.2/11.9 MB 3.0 MB/s eta 0:00:03\n",
      "     ------------------ --------------------- 5.4/11.9 MB 3.0 MB/s eta 0:00:03\n",
      "     ------------------ --------------------- 5.5/11.9 MB 3.0 MB/s eta 0:00:03\n",
      "     ------------------- -------------------- 5.7/11.9 MB 3.1 MB/s eta 0:00:02\n",
      "     -------------------- ------------------- 6.0/11.9 MB 3.1 MB/s eta 0:00:02\n",
      "     -------------------- ------------------- 6.2/11.9 MB 3.2 MB/s eta 0:00:02\n",
      "     --------------------- ------------------ 6.4/11.9 MB 3.2 MB/s eta 0:00:02\n",
      "     ---------------------- ----------------- 6.6/11.9 MB 3.2 MB/s eta 0:00:02\n",
      "     ----------------------- ---------------- 6.9/11.9 MB 3.2 MB/s eta 0:00:02\n",
      "     ----------------------- ---------------- 7.1/11.9 MB 3.3 MB/s eta 0:00:02\n",
      "     ------------------------ --------------- 7.3/11.9 MB 3.3 MB/s eta 0:00:02\n",
      "     ------------------------- -------------- 7.5/11.9 MB 3.3 MB/s eta 0:00:02\n",
      "     -------------------------- ------------- 7.7/11.9 MB 3.4 MB/s eta 0:00:02\n",
      "     -------------------------- ------------- 8.0/11.9 MB 3.4 MB/s eta 0:00:02\n",
      "     --------------------------- ------------ 8.2/11.9 MB 3.4 MB/s eta 0:00:02\n",
      "     ---------------------------- ----------- 8.4/11.9 MB 3.5 MB/s eta 0:00:02\n",
      "     ----------------------------- ---------- 8.6/11.9 MB 3.5 MB/s eta 0:00:01\n",
      "     ----------------------------- ---------- 8.9/11.9 MB 3.5 MB/s eta 0:00:01\n",
      "     ------------------------------ --------- 9.1/11.9 MB 3.6 MB/s eta 0:00:01\n",
      "     ------------------------------- -------- 9.4/11.9 MB 3.6 MB/s eta 0:00:01\n",
      "     -------------------------------- ------- 9.6/11.9 MB 3.6 MB/s eta 0:00:01\n",
      "     --------------------------------- ------ 9.8/11.9 MB 3.6 MB/s eta 0:00:01\n",
      "     ---------------------------------- ----- 10.1/11.9 MB 3.7 MB/s eta 0:00:01\n",
      "     ---------------------------------- ----- 10.3/11.9 MB 3.7 MB/s eta 0:00:01\n",
      "     ----------------------------------- ---- 10.6/11.9 MB 3.9 MB/s eta 0:00:01\n",
      "     ------------------------------------ --- 10.9/11.9 MB 4.0 MB/s eta 0:00:01\n",
      "     ------------------------------------- -- 11.1/11.9 MB 4.1 MB/s eta 0:00:01\n",
      "     -------------------------------------- - 11.4/11.9 MB 4.2 MB/s eta 0:00:01\n",
      "     ---------------------------------------  11.7/11.9 MB 4.3 MB/s eta 0:00:01\n",
      "     ---------------------------------------  11.8/11.9 MB 4.3 MB/s eta 0:00:01\n",
      "     ---------------------------------------- 11.9/11.9 MB 4.2 MB/s eta 0:00:00\n",
      "  Installing build dependencies: started\n",
      "  Installing build dependencies: finished with status 'done'\n",
      "  Getting requirements to build wheel: started\n",
      "  Getting requirements to build wheel: finished with status 'done'\n",
      "  Preparing metadata (pyproject.toml): started\n",
      "  Preparing metadata (pyproject.toml): finished with status 'done'\n",
      "Building wheels for collected packages: mysql.connector\n",
      "  Building wheel for mysql.connector (pyproject.toml): started\n",
      "  Building wheel for mysql.connector (pyproject.toml): finished with status 'done'\n",
      "  Created wheel for mysql.connector: filename=mysql_connector-2.2.9-cp311-cp311-win_amd64.whl size=247957 sha256=624198b934393478a3ef7c2a88edb8295fd375304f8c6f287b4b999b311d2de5\n",
      "  Stored in directory: c:\\users\\arupp\\appdata\\local\\pip\\cache\\wheels\\17\\cd\\ed\\2d49e9bac69cf09382e4c7cc20a2511202b48324b87db26019\n",
      "Successfully built mysql.connector\n",
      "Installing collected packages: mysql.connector\n",
      "Successfully installed mysql.connector-2.2.9\n"
     ]
    }
   ],
   "source": [
    "pip install mysql.connector"
   ]
  },
  {
   "cell_type": "markdown",
   "metadata": {},
   "source": [
    "### 3. Importing mysql.connector"
   ]
  },
  {
   "cell_type": "code",
   "execution_count": 3,
   "metadata": {},
   "outputs": [],
   "source": [
    "import mysql.connector"
   ]
  },
  {
   "cell_type": "markdown",
   "metadata": {},
   "source": [
    "### 4. Connecting MySQL"
   ]
  },
  {
   "cell_type": "code",
   "execution_count": 4,
   "metadata": {},
   "outputs": [],
   "source": [
    "conn = mysql.connector.connect(host='localhost',\n",
    "                        user='root',\n",
    "                        password='',\n",
    "                        database='world')"
   ]
  },
  {
   "cell_type": "markdown",
   "metadata": {},
   "source": [
    "### 5. Read Data from Table"
   ]
  },
  {
   "cell_type": "code",
   "execution_count": 5,
   "metadata": {},
   "outputs": [
    {
     "name": "stderr",
     "output_type": "stream",
     "text": [
      "C:\\Users\\arupp\\AppData\\Local\\Temp\\ipykernel_11284\\1659129353.py:1: UserWarning: pandas only supports SQLAlchemy connectable (engine/connection) or database string URI or sqlite3 DBAPI2 connection. Other DBAPI2 objects are not tested. Please consider using SQLAlchemy.\n",
      "  pd.read_sql_query(\"SELECT * FROM City\", conn)\n"
     ]
    },
    {
     "data": {
      "text/html": [
       "<div>\n",
       "<style scoped>\n",
       "    .dataframe tbody tr th:only-of-type {\n",
       "        vertical-align: middle;\n",
       "    }\n",
       "\n",
       "    .dataframe tbody tr th {\n",
       "        vertical-align: top;\n",
       "    }\n",
       "\n",
       "    .dataframe thead th {\n",
       "        text-align: right;\n",
       "    }\n",
       "</style>\n",
       "<table border=\"1\" class=\"dataframe\">\n",
       "  <thead>\n",
       "    <tr style=\"text-align: right;\">\n",
       "      <th></th>\n",
       "      <th>ID</th>\n",
       "      <th>Name</th>\n",
       "      <th>CountryCode</th>\n",
       "      <th>District</th>\n",
       "      <th>Population</th>\n",
       "    </tr>\n",
       "  </thead>\n",
       "  <tbody>\n",
       "    <tr>\n",
       "      <th>0</th>\n",
       "      <td>1</td>\n",
       "      <td>Kabul</td>\n",
       "      <td>AFG</td>\n",
       "      <td>Kabol</td>\n",
       "      <td>1780000</td>\n",
       "    </tr>\n",
       "    <tr>\n",
       "      <th>1</th>\n",
       "      <td>2</td>\n",
       "      <td>Qandahar</td>\n",
       "      <td>AFG</td>\n",
       "      <td>Qandahar</td>\n",
       "      <td>237500</td>\n",
       "    </tr>\n",
       "    <tr>\n",
       "      <th>2</th>\n",
       "      <td>3</td>\n",
       "      <td>Herat</td>\n",
       "      <td>AFG</td>\n",
       "      <td>Herat</td>\n",
       "      <td>186800</td>\n",
       "    </tr>\n",
       "    <tr>\n",
       "      <th>3</th>\n",
       "      <td>4</td>\n",
       "      <td>Mazar-e-Sharif</td>\n",
       "      <td>AFG</td>\n",
       "      <td>Balkh</td>\n",
       "      <td>127800</td>\n",
       "    </tr>\n",
       "    <tr>\n",
       "      <th>4</th>\n",
       "      <td>5</td>\n",
       "      <td>Amsterdam</td>\n",
       "      <td>NLD</td>\n",
       "      <td>Noord-Holland</td>\n",
       "      <td>731200</td>\n",
       "    </tr>\n",
       "    <tr>\n",
       "      <th>...</th>\n",
       "      <td>...</td>\n",
       "      <td>...</td>\n",
       "      <td>...</td>\n",
       "      <td>...</td>\n",
       "      <td>...</td>\n",
       "    </tr>\n",
       "    <tr>\n",
       "      <th>4074</th>\n",
       "      <td>4075</td>\n",
       "      <td>Khan Yunis</td>\n",
       "      <td>PSE</td>\n",
       "      <td>Khan Yunis</td>\n",
       "      <td>123175</td>\n",
       "    </tr>\n",
       "    <tr>\n",
       "      <th>4075</th>\n",
       "      <td>4076</td>\n",
       "      <td>Hebron</td>\n",
       "      <td>PSE</td>\n",
       "      <td>Hebron</td>\n",
       "      <td>119401</td>\n",
       "    </tr>\n",
       "    <tr>\n",
       "      <th>4076</th>\n",
       "      <td>4077</td>\n",
       "      <td>Jabaliya</td>\n",
       "      <td>PSE</td>\n",
       "      <td>North Gaza</td>\n",
       "      <td>113901</td>\n",
       "    </tr>\n",
       "    <tr>\n",
       "      <th>4077</th>\n",
       "      <td>4078</td>\n",
       "      <td>Nablus</td>\n",
       "      <td>PSE</td>\n",
       "      <td>Nablus</td>\n",
       "      <td>100231</td>\n",
       "    </tr>\n",
       "    <tr>\n",
       "      <th>4078</th>\n",
       "      <td>4079</td>\n",
       "      <td>Rafah</td>\n",
       "      <td>PSE</td>\n",
       "      <td>Rafah</td>\n",
       "      <td>92020</td>\n",
       "    </tr>\n",
       "  </tbody>\n",
       "</table>\n",
       "<p>4079 rows × 5 columns</p>\n",
       "</div>"
      ],
      "text/plain": [
       "        ID            Name CountryCode       District  Population\n",
       "0        1           Kabul         AFG          Kabol     1780000\n",
       "1        2        Qandahar         AFG       Qandahar      237500\n",
       "2        3           Herat         AFG          Herat      186800\n",
       "3        4  Mazar-e-Sharif         AFG          Balkh      127800\n",
       "4        5       Amsterdam         NLD  Noord-Holland      731200\n",
       "...    ...             ...         ...            ...         ...\n",
       "4074  4075      Khan Yunis         PSE     Khan Yunis      123175\n",
       "4075  4076          Hebron         PSE         Hebron      119401\n",
       "4076  4077        Jabaliya         PSE     North Gaza      113901\n",
       "4077  4078          Nablus         PSE         Nablus      100231\n",
       "4078  4079           Rafah         PSE          Rafah       92020\n",
       "\n",
       "[4079 rows x 5 columns]"
      ]
     },
     "execution_count": 5,
     "metadata": {},
     "output_type": "execute_result"
    }
   ],
   "source": [
    "pd.read_sql_query(\"SELECT * FROM City\", conn)"
   ]
  }
 ],
 "metadata": {
  "kernelspec": {
   "display_name": "Python 3",
   "language": "python",
   "name": "python3"
  },
  "language_info": {
   "codemirror_mode": {
    "name": "ipython",
    "version": 3
   },
   "file_extension": ".py",
   "mimetype": "text/x-python",
   "name": "python",
   "nbconvert_exporter": "python",
   "pygments_lexer": "ipython3",
   "version": "3.11.1"
  }
 },
 "nbformat": 4,
 "nbformat_minor": 2
}
